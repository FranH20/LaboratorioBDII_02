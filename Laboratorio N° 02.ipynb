{
    "metadata": {
        "kernelspec": {
            "name": "SQL",
            "display_name": "SQL",
            "language": "sql"
        },
        "language_info": {
            "name": "sql",
            "version": ""
        }
    },
    "nbformat_minor": 2,
    "nbformat": 4,
    "cells": [
        {
            "cell_type": "markdown",
            "source": "<h1>Laboratorio N° 02 - Utilizando Operadores de Conjuntos de Datos",
            "metadata": {}
        },
        {
            "cell_type": "markdown",
            "source": "<h2>Ejercicio 1: Operador UNION",
            "metadata": {}
        },
        {
            "cell_type": "markdown",
            "source": "1.1. Conectar con la BD TSQL",
            "metadata": {}
        },
        {
            "cell_type": "code",
            "source": [
                "USE TSQL;\r\n",
                "GO"
            ],
            "metadata": {},
            "outputs": [
                {
                    "output_type": "display_data",
                    "data": {
                        "text/html": "Commands completed successfully."
                    },
                    "metadata": {}
                },
                {
                    "output_type": "display_data",
                    "data": {
                        "text/html": "Total execution time: 00:00:00.005"
                    },
                    "metadata": {}
                }
            ],
            "execution_count": 2
        },
        {
            "cell_type": "markdown",
            "source": "1.2. Write a SELECT statement to return the productid and productname columns from the Production.Products table. Filter the results to include only products that have a categoryid value 4",
            "metadata": {}
        },
        {
            "cell_type": "code",
            "source": "SELECT productid, productname from Production.Products WHERE categoryid = 4",
            "metadata": {},
            "outputs": [
                {
                    "output_type": "display_data",
                    "data": {
                        "text/html": "(10 rows affected)"
                    },
                    "metadata": {}
                },
                {
                    "output_type": "display_data",
                    "data": {
                        "text/html": "Total execution time: 00:00:01.596"
                    },
                    "metadata": {}
                },
                {
                    "output_type": "execute_result",
                    "metadata": {},
                    "execution_count": 3,
                    "data": {
                        "application/vnd.dataresource+json": {
                            "schema": {
                                "fields": [
                                    {
                                        "name": "productid"
                                    },
                                    {
                                        "name": "productname"
                                    }
                                ]
                            },
                            "data": [
                                {
                                    "0": "11",
                                    "1": "Product QMVUN"
                                },
                                {
                                    "0": "12",
                                    "1": "Product OSFNS"
                                },
                                {
                                    "0": "31",
                                    "1": "Product XWOXC"
                                },
                                {
                                    "0": "32",
                                    "1": "Product NUNAW"
                                },
                                {
                                    "0": "33",
                                    "1": "Product ASTMN"
                                },
                                {
                                    "0": "59",
                                    "1": "Product UKXRI"
                                },
                                {
                                    "0": "60",
                                    "1": "Product WHBYK"
                                },
                                {
                                    "0": "69",
                                    "1": "Product COAXA"
                                },
                                {
                                    "0": "71",
                                    "1": "Product MYMOI"
                                },
                                {
                                    "0": "72",
                                    "1": "Product GEEOO"
                                }
                            ]
                        },
                        "text/html": "<table><tr><th>productid</th><th>productname</th></tr><tr><td>11</td><td>Product QMVUN</td></tr><tr><td>12</td><td>Product OSFNS</td></tr><tr><td>31</td><td>Product XWOXC</td></tr><tr><td>32</td><td>Product NUNAW</td></tr><tr><td>33</td><td>Product ASTMN</td></tr><tr><td>59</td><td>Product UKXRI</td></tr><tr><td>60</td><td>Product WHBYK</td></tr><tr><td>69</td><td>Product COAXA</td></tr><tr><td>71</td><td>Product MYMOI</td></tr><tr><td>72</td><td>Product GEEOO</td></tr></table>"
                    }
                }
            ],
            "execution_count": 3
        },
        {
            "cell_type": "markdown",
            "source": "1.3. Write a SELECT statement to return the productid and productname columns from the Production.Products table. Filter the results to include only products that have a total sales amount of more than $50,000. For the total sales amount, you will need to query the Sales.OrderDetails table and aggregate all order line values (qty * unitprice) for each product",
            "metadata": {}
        },
        {
            "cell_type": "code",
            "source": [
                "SELECT \r\n",
                "    c.productid,\r\n",
                "    c.productname,\r\n",
                "    c.Sales_Amount\r\n",
                "FROM\r\n",
                "(\r\n",
                "    SELECT \r\n",
                "\tS.productid,P.productname, SUM(S.qty*S.unitprice) AS Sales_Amount\r\n",
                "\tFROM Sales.OrderDetails AS S\r\n",
                "\tINNER JOIN Production.Products AS P ON S.productid = P.productid\r\n",
                "\tGROUP BY S.productid,P.productname\r\n",
                ") AS c \r\n",
                "WHERE c.Sales_Amount > 50000"
            ],
            "metadata": {},
            "outputs": [
                {
                    "output_type": "display_data",
                    "data": {
                        "text/html": "(4 rows affected)"
                    },
                    "metadata": {}
                },
                {
                    "output_type": "display_data",
                    "data": {
                        "text/html": "Total execution time: 00:00:00.013"
                    },
                    "metadata": {}
                },
                {
                    "output_type": "execute_result",
                    "execution_count": 4,
                    "data": {
                        "application/vnd.dataresource+json": {
                            "schema": {
                                "fields": [
                                    {
                                        "name": "productid"
                                    },
                                    {
                                        "name": "productname"
                                    },
                                    {
                                        "name": "Sales_Amount"
                                    }
                                ]
                            },
                            "data": [
                                {
                                    "0": "29",
                                    "1": "Product VJXYN",
                                    "2": "87736.4000"
                                },
                                {
                                    "0": "38",
                                    "1": "Product QDOMO",
                                    "2": "149984.2000"
                                },
                                {
                                    "0": "59",
                                    "1": "Product UKXRI",
                                    "2": "76296.0000"
                                },
                                {
                                    "0": "60",
                                    "1": "Product WHBYK",
                                    "2": "50286.0000"
                                }
                            ]
                        },
                        "text/html": "<table><tr><th>productid</th><th>productname</th><th>Sales_Amount</th></tr><tr><td>29</td><td>Product VJXYN</td><td>87736.4000</td></tr><tr><td>38</td><td>Product QDOMO</td><td>149984.2000</td></tr><tr><td>59</td><td>Product UKXRI</td><td>76296.0000</td></tr><tr><td>60</td><td>Product WHBYK</td><td>50286.0000</td></tr></table>"
                    },
                    "metadata": {}
                }
            ],
            "execution_count": 4
        },
        {
            "cell_type": "markdown",
            "source": "1.3. Write a SELECT statement to retrieve the custid and contactname columns from the Sales.Customers table. Display the top 10 customers by sales amount for January 2008 and display the top 10 customers by sales amount for February 2008. (Hint: write two SELECT statements, each  joining Sales.Customers and Sales.OrderValues, and use the appropriate set operator.)",
            "metadata": {}
        },
        {
            "cell_type": "code",
            "source": [
                "SELECT \r\n",
                "\tTOP(10) \r\n",
                "\tA.custid,A.contactname \r\n",
                "FROM\r\n",
                "(\tSELECT TOP(10)\r\n",
                "\t\tC.custid,C.contactname, (qty*val) as Sales_Amount \r\n",
                "\tFROM Sales.Customers AS C INNER JOIN Sales.OrderValues AS S ON S.custid = C.custid\r\n",
                "\tWHERE MONTH(orderdate)=2 and YEAR(orderdate)=2008\r\n",
                "\tORDER BY Sales_Amount DESC\r\n",
                ") AS A\r\n",
                "UNION ALL\r\n",
                "SELECT \r\n",
                "\tTOP(10) \r\n",
                "\tA.custid,A.contactname \r\n",
                "FROM\r\n",
                "(\tSELECT TOP(10)\r\n",
                "\t\tC.custid,C.contactname, (qty*val) as Sales_Amount \r\n",
                "\tFROM Sales.Customers AS C INNER JOIN Sales.OrderValues AS S ON S.custid = C.custid\r\n",
                "\tWHERE MONTH(orderdate)=1 and YEAR(orderdate)=2008\r\n",
                "\tORDER BY Sales_Amount DESC\r\n",
                ") AS A"
            ],
            "metadata": {},
            "outputs": [
                {
                    "output_type": "display_data",
                    "data": {
                        "text/html": "(20 rows affected)"
                    },
                    "metadata": {}
                },
                {
                    "output_type": "display_data",
                    "data": {
                        "text/html": "Total execution time: 00:00:00.036"
                    },
                    "metadata": {}
                },
                {
                    "output_type": "execute_result",
                    "metadata": {},
                    "execution_count": 4,
                    "data": {
                        "application/vnd.dataresource+json": {
                            "schema": {
                                "fields": [
                                    {
                                        "name": "custid"
                                    },
                                    {
                                        "name": "contactname"
                                    }
                                ]
                            },
                            "data": [
                                {
                                    "0": "63",
                                    "1": "Veronesi, Giorgio"
                                },
                                {
                                    "0": "20",
                                    "1": "Kane, John"
                                },
                                {
                                    "0": "37",
                                    "1": "Crăciun, Ovidiu V."
                                },
                                {
                                    "0": "65",
                                    "1": "Moore, Michael"
                                },
                                {
                                    "0": "39",
                                    "1": "Song, Lolan"
                                },
                                {
                                    "0": "37",
                                    "1": "Crăciun, Ovidiu V."
                                },
                                {
                                    "0": "71",
                                    "1": "Navarro, Tomás"
                                },
                                {
                                    "0": "34",
                                    "1": "Cohen, Shy"
                                },
                                {
                                    "0": "72",
                                    "1": "Welcker, Brian"
                                },
                                {
                                    "0": "62",
                                    "1": "Misiec, Anna"
                                },
                                {
                                    "0": "39",
                                    "1": "Song, Lolan"
                                },
                                {
                                    "0": "71",
                                    "1": "Navarro, Tomás"
                                },
                                {
                                    "0": "63",
                                    "1": "Veronesi, Giorgio"
                                },
                                {
                                    "0": "20",
                                    "1": "Kane, John"
                                },
                                {
                                    "0": "76",
                                    "1": "Gulbis, Katrin"
                                },
                                {
                                    "0": "89",
                                    "1": "Smith Jr., Ronaldo"
                                },
                                {
                                    "0": "20",
                                    "1": "Kane, John"
                                },
                                {
                                    "0": "32",
                                    "1": "Krishnan, Venky"
                                },
                                {
                                    "0": "46",
                                    "1": "Dressler, Marlies"
                                },
                                {
                                    "0": "55",
                                    "1": "Egelund-Muller, Anja"
                                }
                            ]
                        },
                        "text/html": "<table><tr><th>custid</th><th>contactname</th></tr><tr><td>63</td><td>Veronesi, Giorgio</td></tr><tr><td>20</td><td>Kane, John</td></tr><tr><td>37</td><td>Crăciun, Ovidiu V.</td></tr><tr><td>65</td><td>Moore, Michael</td></tr><tr><td>39</td><td>Song, Lolan</td></tr><tr><td>37</td><td>Crăciun, Ovidiu V.</td></tr><tr><td>71</td><td>Navarro, Tomás</td></tr><tr><td>34</td><td>Cohen, Shy</td></tr><tr><td>72</td><td>Welcker, Brian</td></tr><tr><td>62</td><td>Misiec, Anna</td></tr><tr><td>39</td><td>Song, Lolan</td></tr><tr><td>71</td><td>Navarro, Tomás</td></tr><tr><td>63</td><td>Veronesi, Giorgio</td></tr><tr><td>20</td><td>Kane, John</td></tr><tr><td>76</td><td>Gulbis, Katrin</td></tr><tr><td>89</td><td>Smith Jr., Ronaldo</td></tr><tr><td>20</td><td>Kane, John</td></tr><tr><td>32</td><td>Krishnan, Venky</td></tr><tr><td>46</td><td>Dressler, Marlies</td></tr><tr><td>55</td><td>Egelund-Muller, Anja</td></tr></table>"
                    }
                }
            ],
            "execution_count": 4
        },
        {
            "cell_type": "markdown",
            "source": "<h2>Ejercicio 2: Operador EXCEPT y INTERSECT",
            "metadata": {}
        },
        {
            "cell_type": "markdown",
            "source": "2.1. Write a SELECT statement to retrieve the custid column from the Sales.Orders table. Filter the results to include only customers who bought more than 20 different products (based on the productid column from the Sales.OrderDetails table)",
            "metadata": {}
        },
        {
            "cell_type": "code",
            "source": [
                "SELECT \r\n",
                "\tP.custid \r\n",
                "FROM \r\n",
                "(\r\n",
                "\tSELECT \r\n",
                "\t\tB.custid,COUNT(productid) AS TOTAL \r\n",
                "\tFROM Sales.OrderDetails AS A\r\n",
                "\tINNER JOIN Sales.Orders AS B\r\n",
                "\tON B.orderid = A.orderid\r\n",
                "\tGROUP BY A.orderid,B.custid\r\n",
                ")\r\n",
                "AS P  \r\n",
                "WHERE TOTAL > 20;"
            ],
            "metadata": {},
            "outputs": [
                {
                    "output_type": "display_data",
                    "data": {
                        "text/html": "(1 row affected)"
                    },
                    "metadata": {}
                },
                {
                    "output_type": "display_data",
                    "data": {
                        "text/html": "Total execution time: 00:00:00.010"
                    },
                    "metadata": {}
                },
                {
                    "output_type": "execute_result",
                    "metadata": {},
                    "execution_count": 6,
                    "data": {
                        "application/vnd.dataresource+json": {
                            "schema": {
                                "fields": [
                                    {
                                        "name": "custid"
                                    }
                                ]
                            },
                            "data": [
                                {
                                    "0": "65"
                                }
                            ]
                        },
                        "text/html": "<table><tr><th>custid</th></tr><tr><td>65</td></tr></table>"
                    }
                }
            ],
            "execution_count": 6
        },
        {
            "cell_type": "markdown",
            "source": "2.2. Write a SELECT statement to retrieve the custid column from the Sales.Orders table. Filter the results to include only customers from the country USA and exclude all customers from the previous (task 1) result. (Hint: use the EXCEPT operator and the previous query.)",
            "metadata": {}
        },
        {
            "cell_type": "code",
            "source": [
                "SELECT B.custid FROM Sales.Customers AS A\r\n",
                "INNER JOIN Sales.Orders AS B ON B.custid = A.custid\r\n",
                "WHERE A.country LIKE 'USA'\r\n",
                "GROUP BY B.custid,A.country\r\n",
                "EXCEPT \r\n",
                "SELECT \r\n",
                "\tP.custid\r\n",
                "FROM \r\n",
                "(\r\n",
                "\tSELECT \r\n",
                "\t\tB.custid,COUNT(productid) AS TOTAL \r\n",
                "\tFROM Sales.OrderDetails AS A\r\n",
                "\tINNER JOIN Sales.Orders AS B\r\n",
                "\tON B.orderid = A.orderid\r\n",
                "\tGROUP BY A.orderid,B.custid\r\n",
                ")\r\n",
                "AS P  \r\n",
                "WHERE TOTAL > 20;"
            ],
            "metadata": {},
            "outputs": [
                {
                    "output_type": "display_data",
                    "data": {
                        "text/html": "(12 rows affected)"
                    },
                    "metadata": {}
                },
                {
                    "output_type": "display_data",
                    "data": {
                        "text/html": "Total execution time: 00:00:00.034"
                    },
                    "metadata": {}
                },
                {
                    "output_type": "execute_result",
                    "metadata": {},
                    "execution_count": 8,
                    "data": {
                        "application/vnd.dataresource+json": {
                            "schema": {
                                "fields": [
                                    {
                                        "name": "custid"
                                    }
                                ]
                            },
                            "data": [
                                {
                                    "0": "32"
                                },
                                {
                                    "0": "36"
                                },
                                {
                                    "0": "43"
                                },
                                {
                                    "0": "45"
                                },
                                {
                                    "0": "48"
                                },
                                {
                                    "0": "55"
                                },
                                {
                                    "0": "71"
                                },
                                {
                                    "0": "75"
                                },
                                {
                                    "0": "77"
                                },
                                {
                                    "0": "78"
                                },
                                {
                                    "0": "82"
                                },
                                {
                                    "0": "89"
                                }
                            ]
                        },
                        "text/html": "<table><tr><th>custid</th></tr><tr><td>32</td></tr><tr><td>36</td></tr><tr><td>43</td></tr><tr><td>45</td></tr><tr><td>48</td></tr><tr><td>55</td></tr><tr><td>71</td></tr><tr><td>75</td></tr><tr><td>77</td></tr><tr><td>78</td></tr><tr><td>82</td></tr><tr><td>89</td></tr></table>"
                    }
                }
            ],
            "execution_count": 8
        },
        {
            "cell_type": "markdown",
            "source": "2.3. Write a SELECT statement to retrieve the custid column from the Sales.Orders table. Filter only customers who have a total sales value greater than $10,000. Calculate the sales value using the qty and unitprice columns from the Sales.OrderDetails table",
            "metadata": {}
        },
        {
            "cell_type": "code",
            "source": [
                "SELECT P.custid\r\n",
                "FROM\r\n",
                "(\r\n",
                "SELECT \r\n",
                "\tT.custid, sum(qty*val) as Sales_Amount \r\n",
                "FROM Sales.OrderValues AS C INNER JOIN Sales.Orders AS T ON T.custid = C.custid\r\n",
                "GROUP BY T.custid\r\n",
                ") AS P\r\n",
                "WHERE P.Sales_Amount > 10000\r\n",
                ""
            ],
            "metadata": {},
            "outputs": [
                {
                    "output_type": "display_data",
                    "data": {
                        "text/html": "(87 rows affected)"
                    },
                    "metadata": {}
                },
                {
                    "output_type": "display_data",
                    "data": {
                        "text/html": "Total execution time: 00:00:00.018"
                    },
                    "metadata": {}
                },
                {
                    "output_type": "execute_result",
                    "metadata": {},
                    "execution_count": 9,
                    "data": {
                        "application/vnd.dataresource+json": {
                            "schema": {
                                "fields": [
                                    {
                                        "name": "custid"
                                    }
                                ]
                            },
                            "data": [
                                {
                                    "0": "23"
                                },
                                {
                                    "0": "46"
                                },
                                {
                                    "0": "69"
                                },
                                {
                                    "0": "29"
                                },
                                {
                                    "0": "75"
                                },
                                {
                                    "0": "9"
                                },
                                {
                                    "0": "15"
                                },
                                {
                                    "0": "89"
                                },
                                {
                                    "0": "3"
                                },
                                {
                                    "0": "52"
                                },
                                {
                                    "0": "72"
                                },
                                {
                                    "0": "66"
                                },
                                {
                                    "0": "78"
                                },
                                {
                                    "0": "32"
                                },
                                {
                                    "0": "26"
                                },
                                {
                                    "0": "12"
                                },
                                {
                                    "0": "35"
                                },
                                {
                                    "0": "86"
                                },
                                {
                                    "0": "63"
                                },
                                {
                                    "0": "6"
                                },
                                {
                                    "0": "55"
                                },
                                {
                                    "0": "49"
                                },
                                {
                                    "0": "67"
                                },
                                {
                                    "0": "21"
                                },
                                {
                                    "0": "27"
                                },
                                {
                                    "0": "58"
                                },
                                {
                                    "0": "81"
                                },
                                {
                                    "0": "64"
                                },
                                {
                                    "0": "38"
                                },
                                {
                                    "0": "87"
                                },
                                {
                                    "0": "7"
                                },
                                {
                                    "0": "44"
                                },
                                {
                                    "0": "1"
                                },
                                {
                                    "0": "50"
                                },
                                {
                                    "0": "24"
                                },
                                {
                                    "0": "47"
                                },
                                {
                                    "0": "70"
                                },
                                {
                                    "0": "18"
                                },
                                {
                                    "0": "30"
                                },
                                {
                                    "0": "84"
                                },
                                {
                                    "0": "10"
                                },
                                {
                                    "0": "61"
                                },
                                {
                                    "0": "41"
                                },
                                {
                                    "0": "90"
                                },
                                {
                                    "0": "4"
                                },
                                {
                                    "0": "65"
                                },
                                {
                                    "0": "79"
                                },
                                {
                                    "0": "19"
                                },
                                {
                                    "0": "73"
                                },
                                {
                                    "0": "25"
                                },
                                {
                                    "0": "36"
                                },
                                {
                                    "0": "85"
                                },
                                {
                                    "0": "62"
                                },
                                {
                                    "0": "42"
                                },
                                {
                                    "0": "5"
                                },
                                {
                                    "0": "56"
                                },
                                {
                                    "0": "76"
                                },
                                {
                                    "0": "59"
                                },
                                {
                                    "0": "82"
                                },
                                {
                                    "0": "33"
                                },
                                {
                                    "0": "39"
                                },
                                {
                                    "0": "16"
                                },
                                {
                                    "0": "88"
                                },
                                {
                                    "0": "53"
                                },
                                {
                                    "0": "45"
                                },
                                {
                                    "0": "2"
                                },
                                {
                                    "0": "48"
                                },
                                {
                                    "0": "71"
                                },
                                {
                                    "0": "77"
                                },
                                {
                                    "0": "17"
                                },
                                {
                                    "0": "31"
                                },
                                {
                                    "0": "60"
                                },
                                {
                                    "0": "83"
                                },
                                {
                                    "0": "34"
                                },
                                {
                                    "0": "40"
                                },
                                {
                                    "0": "11"
                                },
                                {
                                    "0": "54"
                                },
                                {
                                    "0": "91"
                                },
                                {
                                    "0": "20"
                                },
                                {
                                    "0": "68"
                                },
                                {
                                    "0": "80"
                                },
                                {
                                    "0": "28"
                                },
                                {
                                    "0": "74"
                                },
                                {
                                    "0": "14"
                                },
                                {
                                    "0": "37"
                                },
                                {
                                    "0": "8"
                                },
                                {
                                    "0": "51"
                                }
                            ]
                        },
                        "text/html": "<table><tr><th>custid</th></tr><tr><td>23</td></tr><tr><td>46</td></tr><tr><td>69</td></tr><tr><td>29</td></tr><tr><td>75</td></tr><tr><td>9</td></tr><tr><td>15</td></tr><tr><td>89</td></tr><tr><td>3</td></tr><tr><td>52</td></tr><tr><td>72</td></tr><tr><td>66</td></tr><tr><td>78</td></tr><tr><td>32</td></tr><tr><td>26</td></tr><tr><td>12</td></tr><tr><td>35</td></tr><tr><td>86</td></tr><tr><td>63</td></tr><tr><td>6</td></tr><tr><td>55</td></tr><tr><td>49</td></tr><tr><td>67</td></tr><tr><td>21</td></tr><tr><td>27</td></tr><tr><td>58</td></tr><tr><td>81</td></tr><tr><td>64</td></tr><tr><td>38</td></tr><tr><td>87</td></tr><tr><td>7</td></tr><tr><td>44</td></tr><tr><td>1</td></tr><tr><td>50</td></tr><tr><td>24</td></tr><tr><td>47</td></tr><tr><td>70</td></tr><tr><td>18</td></tr><tr><td>30</td></tr><tr><td>84</td></tr><tr><td>10</td></tr><tr><td>61</td></tr><tr><td>41</td></tr><tr><td>90</td></tr><tr><td>4</td></tr><tr><td>65</td></tr><tr><td>79</td></tr><tr><td>19</td></tr><tr><td>73</td></tr><tr><td>25</td></tr><tr><td>36</td></tr><tr><td>85</td></tr><tr><td>62</td></tr><tr><td>42</td></tr><tr><td>5</td></tr><tr><td>56</td></tr><tr><td>76</td></tr><tr><td>59</td></tr><tr><td>82</td></tr><tr><td>33</td></tr><tr><td>39</td></tr><tr><td>16</td></tr><tr><td>88</td></tr><tr><td>53</td></tr><tr><td>45</td></tr><tr><td>2</td></tr><tr><td>48</td></tr><tr><td>71</td></tr><tr><td>77</td></tr><tr><td>17</td></tr><tr><td>31</td></tr><tr><td>60</td></tr><tr><td>83</td></tr><tr><td>34</td></tr><tr><td>40</td></tr><tr><td>11</td></tr><tr><td>54</td></tr><tr><td>91</td></tr><tr><td>20</td></tr><tr><td>68</td></tr><tr><td>80</td></tr><tr><td>28</td></tr><tr><td>74</td></tr><tr><td>14</td></tr><tr><td>37</td></tr><tr><td>8</td></tr><tr><td>51</td></tr></table>"
                    }
                }
            ],
            "execution_count": 9
        },
        {
            "cell_type": "markdown",
            "source": "<h2>Ejercicio 3: Utilizando el Operador APPLY",
            "metadata": {}
        },
        {
            "cell_type": "markdown",
            "source": "3.1. Write a SELECT statement to retrieve the productid and productname columns from the Production.Products table. In addition, for each product, retrieve the last two rows from the Sales.OrderDetails table based on orderid number.",
            "metadata": {}
        },
        {
            "cell_type": "code",
            "source": "",
            "metadata": {},
            "outputs": [],
            "execution_count": 9
        },
        {
            "cell_type": "markdown",
            "source": "3.2. Use the CROSS APPLY operator and a correlated subquery. Order the result by the column productid",
            "metadata": {}
        },
        {
            "cell_type": "code",
            "source": "",
            "metadata": {},
            "outputs": [],
            "execution_count": 14
        },
        {
            "cell_type": "markdown",
            "source": "3.3. Ejecutar la sentencia siguiente para crear la función fnGetTop3ProductsForCustomer.",
            "metadata": {}
        },
        {
            "cell_type": "code",
            "source": [
                "DROP FUNCTION IF EXISTS dbo.fnGetTop3ProductsForCustomer; \r\n",
                "GO \r\n",
                "CREATE FUNCTION dbo.fnGetTop3ProductsForCustomer (@custid AS INT) \r\n",
                "RETURNS TABLE AS \r\n",
                "RETURN \r\n",
                "SELECT TOP(3) d.productid, p.productname, SUM(d.qty * d.unitprice) AS totalsalesamount \r\n",
                "FROM Sales.Orders AS o \r\n",
                "INNER JOIN Sales.OrderDetails AS d ON d.orderid = o.orderid \r\n",
                "INNER JOIN Production.Products AS p ON p.productid = d.productid \r\n",
                "WHERE custid = @custid \r\n",
                "GROUP BY d.productid, p.productname \r\n",
                "ORDER BY totalsalesamount DESC;"
            ],
            "metadata": {},
            "outputs": [],
            "execution_count": 1
        },
        {
            "cell_type": "markdown",
            "source": "3.4. Write a SELECT statement to retrieve the custid and contactname columns from the Sales.Customers table. Use the CROSS APPLY operator with the dbo.fnGetTop3ProductsForCustomer function to retrieve productid, productname, and totalsalesamount columns for each customer",
            "metadata": {}
        },
        {
            "cell_type": "code",
            "source": "",
            "metadata": {},
            "outputs": [],
            "execution_count": 19
        },
        {
            "cell_type": "code",
            "source": "",
            "metadata": {},
            "outputs": [],
            "execution_count": 0
        }
    ]
}