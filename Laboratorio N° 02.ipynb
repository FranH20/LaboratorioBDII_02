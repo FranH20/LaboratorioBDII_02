{
    "metadata": {
        "kernelspec": {
            "name": "SQL",
            "display_name": "SQL",
            "language": "sql"
        },
        "language_info": {
            "name": "sql",
            "version": ""
        }
    },
    "nbformat_minor": 2,
    "nbformat": 4,
    "cells": [
        {
            "cell_type": "markdown",
            "source": "<h1>Laboratorio N° 02 - Utilizando Operadores de Conjuntos de Datos",
            "metadata": {}
        },
        {
            "cell_type": "markdown",
            "source": "<h2>Ejercicio 1: Operador UNION",
            "metadata": {}
        },
        {
            "cell_type": "markdown",
            "source": "1.1. Conectar con la BD TSQL",
            "metadata": {}
        },
        {
            "cell_type": "code",
            "source": [
                "USE TSQL;\r\n",
                "GO"
            ],
            "metadata": {},
            "outputs": [
                {
                    "output_type": "display_data",
                    "data": {
                        "text/html": "Commands completed successfully."
                    },
                    "metadata": {}
                },
                {
                    "output_type": "display_data",
                    "data": {
                        "text/html": "Total execution time: 00:00:00"
                    },
                    "metadata": {}
                }
            ],
            "execution_count": 2
        },
        {
            "cell_type": "markdown",
            "source": "1.2. Write a SELECT statement to return the productid and productname columns from the Production.Products table. Filter the results to include only products that have a categoryid value 4",
            "metadata": {}
        },
        {
            "cell_type": "code",
            "source": "SELECT productid, productname from Production.Products WHERE categoryid = 4",
            "metadata": {},
            "outputs": [
                {
                    "output_type": "display_data",
                    "data": {
                        "text/html": "(10 rows affected)"
                    },
                    "metadata": {}
                },
                {
                    "output_type": "display_data",
                    "data": {
                        "text/html": "Total execution time: 00:00:00.012"
                    },
                    "metadata": {}
                },
                {
                    "output_type": "execute_result",
                    "metadata": {},
                    "execution_count": 3,
                    "data": {
                        "application/vnd.dataresource+json": {
                            "schema": {
                                "fields": [
                                    {
                                        "name": "productid"
                                    },
                                    {
                                        "name": "productname"
                                    }
                                ]
                            },
                            "data": [
                                {
                                    "0": "11",
                                    "1": "Product QMVUN"
                                },
                                {
                                    "0": "12",
                                    "1": "Product OSFNS"
                                },
                                {
                                    "0": "31",
                                    "1": "Product XWOXC"
                                },
                                {
                                    "0": "32",
                                    "1": "Product NUNAW"
                                },
                                {
                                    "0": "33",
                                    "1": "Product ASTMN"
                                },
                                {
                                    "0": "59",
                                    "1": "Product UKXRI"
                                },
                                {
                                    "0": "60",
                                    "1": "Product WHBYK"
                                },
                                {
                                    "0": "69",
                                    "1": "Product COAXA"
                                },
                                {
                                    "0": "71",
                                    "1": "Product MYMOI"
                                },
                                {
                                    "0": "72",
                                    "1": "Product GEEOO"
                                }
                            ]
                        },
                        "text/html": "<table><tr><th>productid</th><th>productname</th></tr><tr><td>11</td><td>Product QMVUN</td></tr><tr><td>12</td><td>Product OSFNS</td></tr><tr><td>31</td><td>Product XWOXC</td></tr><tr><td>32</td><td>Product NUNAW</td></tr><tr><td>33</td><td>Product ASTMN</td></tr><tr><td>59</td><td>Product UKXRI</td></tr><tr><td>60</td><td>Product WHBYK</td></tr><tr><td>69</td><td>Product COAXA</td></tr><tr><td>71</td><td>Product MYMOI</td></tr><tr><td>72</td><td>Product GEEOO</td></tr></table>"
                    }
                }
            ],
            "execution_count": 3
        },
        {
            "cell_type": "markdown",
            "source": "1.3. Write a SELECT statement to return the productid and productname columns from the Production.Products table. Filter the results to include only products that have a total sales amount of more than $50,000. For the total sales amount, you will need to query the Sales.OrderDetails table and aggregate all order line values (qty * unitprice) for each product",
            "metadata": {}
        },
        {
            "cell_type": "code",
            "source": [
                "SELECT \r\n",
                "    c.productid,\r\n",
                "    c.productname,\r\n",
                "    c.Sales_Amount\r\n",
                "FROM\r\n",
                "(\r\n",
                "    SELECT \r\n",
                "\tS.productid,P.productname, SUM(S.qty*S.unitprice) AS Sales_Amount\r\n",
                "\tFROM Sales.OrderDetails AS S\r\n",
                "\tINNER JOIN Production.Products AS P ON S.productid = P.productid\r\n",
                "\tGROUP BY S.productid,P.productname\r\n",
                ") AS c \r\n",
                "WHERE c.Sales_Amount > 50000"
            ],
            "metadata": {},
            "outputs": [
                {
                    "output_type": "display_data",
                    "data": {
                        "text/html": "(4 rows affected)"
                    },
                    "metadata": {}
                },
                {
                    "output_type": "display_data",
                    "data": {
                        "text/html": "Total execution time: 00:00:00.013"
                    },
                    "metadata": {}
                },
                {
                    "output_type": "execute_result",
                    "metadata": {},
                    "execution_count": 4,
                    "data": {
                        "application/vnd.dataresource+json": {
                            "schema": {
                                "fields": [
                                    {
                                        "name": "productid"
                                    },
                                    {
                                        "name": "productname"
                                    },
                                    {
                                        "name": "Sales_Amount"
                                    }
                                ]
                            },
                            "data": [
                                {
                                    "0": "29",
                                    "1": "Product VJXYN",
                                    "2": "87736.4000"
                                },
                                {
                                    "0": "38",
                                    "1": "Product QDOMO",
                                    "2": "149984.2000"
                                },
                                {
                                    "0": "59",
                                    "1": "Product UKXRI",
                                    "2": "76296.0000"
                                },
                                {
                                    "0": "60",
                                    "1": "Product WHBYK",
                                    "2": "50286.0000"
                                }
                            ]
                        },
                        "text/html": "<table><tr><th>productid</th><th>productname</th><th>Sales_Amount</th></tr><tr><td>29</td><td>Product VJXYN</td><td>87736.4000</td></tr><tr><td>38</td><td>Product QDOMO</td><td>149984.2000</td></tr><tr><td>59</td><td>Product UKXRI</td><td>76296.0000</td></tr><tr><td>60</td><td>Product WHBYK</td><td>50286.0000</td></tr></table>"
                    }
                }
            ],
            "execution_count": 4
        },
        {
            "cell_type": "markdown",
            "source": "1.3. Write a SELECT statement to retrieve the custid and contactname columns from the Sales.Customers table. Display the top 10 customers by sales amount for January 2008 and display the top 10 customers by sales amount for February 2008. (Hint: write two SELECT statements, each  joining Sales.Customers and Sales.OrderValues, and use the appropriate set operator.)",
            "metadata": {}
        },
        {
            "cell_type": "code",
            "source": "SELECT custid, contactname FROM Sales.Customers ",
            "metadata": {},
            "outputs": [
                {
                    "output_type": "display_data",
                    "data": {
                        "text/html": "(91 rows affected)"
                    },
                    "metadata": {}
                },
                {
                    "output_type": "display_data",
                    "data": {
                        "text/html": "Total execution time: 00:00:00.014"
                    },
                    "metadata": {}
                },
                {
                    "output_type": "execute_result",
                    "metadata": {},
                    "execution_count": 5,
                    "data": {
                        "application/vnd.dataresource+json": {
                            "schema": {
                                "fields": [
                                    {
                                        "name": "custid"
                                    },
                                    {
                                        "name": "contactname"
                                    }
                                ]
                            },
                            "data": [
                                {
                                    "0": "1",
                                    "1": "Allen, Michael"
                                },
                                {
                                    "0": "2",
                                    "1": "Hassall, Mark"
                                },
                                {
                                    "0": "3",
                                    "1": "Peoples, John"
                                },
                                {
                                    "0": "4",
                                    "1": "Arndt, Torsten"
                                },
                                {
                                    "0": "5",
                                    "1": "Higginbotham, Tom"
                                },
                                {
                                    "0": "6",
                                    "1": "Poland, Carole"
                                },
                                {
                                    "0": "7",
                                    "1": "Bansal, Dushyant"
                                },
                                {
                                    "0": "8",
                                    "1": "Ilyina, Julia"
                                },
                                {
                                    "0": "9",
                                    "1": "Raghav, Amritansh"
                                },
                                {
                                    "0": "10",
                                    "1": "Bassols, Pilar Colome"
                                },
                                {
                                    "0": "11",
                                    "1": "Jaffe, David"
                                },
                                {
                                    "0": "12",
                                    "1": "Ray, Mike"
                                },
                                {
                                    "0": "13",
                                    "1": "Benito, Almudena"
                                },
                                {
                                    "0": "14",
                                    "1": "Jelitto, Jacek"
                                },
                                {
                                    "0": "15",
                                    "1": "Richardson, Shawn"
                                },
                                {
                                    "0": "16",
                                    "1": "Birkby, Dana"
                                },
                                {
                                    "0": "17",
                                    "1": "Jones, TiAnna"
                                },
                                {
                                    "0": "18",
                                    "1": "Rizaldy, Arif"
                                },
                                {
                                    "0": "19",
                                    "1": "Boseman, Randall"
                                },
                                {
                                    "0": "20",
                                    "1": "Kane, John"
                                },
                                {
                                    "0": "21",
                                    "1": "Russo, Giuseppe"
                                },
                                {
                                    "0": "22",
                                    "1": "Bueno, Janaina Burdan, Neville"
                                },
                                {
                                    "0": "23",
                                    "1": "Khanna, Karan"
                                },
                                {
                                    "0": "24",
                                    "1": "San Juan, Patricia"
                                },
                                {
                                    "0": "25",
                                    "1": "Carlson, Jason"
                                },
                                {
                                    "0": "26",
                                    "1": "Koch, Paul"
                                },
                                {
                                    "0": "27",
                                    "1": "Schmöllerl, Martin"
                                },
                                {
                                    "0": "28",
                                    "1": "Cavaglieri, Giorgio"
                                },
                                {
                                    "0": "29",
                                    "1": "Kolesnikova, Katerina"
                                },
                                {
                                    "0": "30",
                                    "1": "Shabalin, Rostislav"
                                },
                                {
                                    "0": "31",
                                    "1": "Cheng, Yao-Qiang"
                                },
                                {
                                    "0": "32",
                                    "1": "Krishnan, Venky"
                                },
                                {
                                    "0": "33",
                                    "1": "Sigurdarson, Hallur "
                                },
                                {
                                    "0": "34",
                                    "1": "Cohen, Shy"
                                },
                                {
                                    "0": "35",
                                    "1": "Langohr, Kris"
                                },
                                {
                                    "0": "36",
                                    "1": "Smith, Denise"
                                },
                                {
                                    "0": "37",
                                    "1": "Crăciun, Ovidiu V."
                                },
                                {
                                    "0": "38",
                                    "1": "Lee, Frank"
                                },
                                {
                                    "0": "39",
                                    "1": "Song, Lolan"
                                },
                                {
                                    "0": "40",
                                    "1": "De Oliveira, Jose"
                                },
                                {
                                    "0": "41",
                                    "1": "Litton, Tim"
                                },
                                {
                                    "0": "42",
                                    "1": "Steiner, Dominik"
                                },
                                {
                                    "0": "43",
                                    "1": "Deshpande, Anu"
                                },
                                {
                                    "0": "44",
                                    "1": "Louverdis, George"
                                },
                                {
                                    "0": "45",
                                    "1": "Sunkammurali,  Krishna"
                                },
                                {
                                    "0": "46",
                                    "1": "Dressler, Marlies"
                                },
                                {
                                    "0": "47",
                                    "1": "Lupu, Cornel"
                                },
                                {
                                    "0": "48",
                                    "1": "Szymczak, Radosław"
                                },
                                {
                                    "0": "49",
                                    "1": "Duerr, Bernard"
                                },
                                {
                                    "0": "50",
                                    "1": "Mace, Donald"
                                },
                                {
                                    "0": "51",
                                    "1": "Taylor, Maurice"
                                },
                                {
                                    "0": "52",
                                    "1": "Dupont-Roc, Patrice"
                                },
                                {
                                    "0": "53",
                                    "1": "Mallit, Ken"
                                },
                                {
                                    "0": "54",
                                    "1": "Tiano, Mike"
                                },
                                {
                                    "0": "55",
                                    "1": "Egelund-Muller, Anja"
                                },
                                {
                                    "0": "56",
                                    "1": "Marinova, Nadejda"
                                },
                                {
                                    "0": "57",
                                    "1": "Tollevsen, Bjørn"
                                },
                                {
                                    "0": "58",
                                    "1": "Fakhouri, Fadi"
                                },
                                {
                                    "0": "59",
                                    "1": "Meston, Tosh"
                                },
                                {
                                    "0": "60",
                                    "1": "Uppal, Sunil"
                                },
                                {
                                    "0": "61",
                                    "1": "Florczyk, Krzysztof"
                                },
                                {
                                    "0": "62",
                                    "1": "Misiec, Anna"
                                },
                                {
                                    "0": "63",
                                    "1": "Veronesi, Giorgio"
                                },
                                {
                                    "0": "64",
                                    "1": "Gaffney, Lawrie"
                                },
                                {
                                    "0": "65",
                                    "1": "Moore, Michael"
                                },
                                {
                                    "0": "66",
                                    "1": "Voss, Florian"
                                },
                                {
                                    "0": "67",
                                    "1": "Garden, Euan"
                                },
                                {
                                    "0": "68",
                                    "1": "Myrcha, Jacek"
                                },
                                {
                                    "0": "69",
                                    "1": "Watters, Jason M."
                                },
                                {
                                    "0": "70",
                                    "1": "Ginters, Kaspars"
                                },
                                {
                                    "0": "71",
                                    "1": "Navarro, Tomás"
                                },
                                {
                                    "0": "72",
                                    "1": "Welcker, Brian"
                                },
                                {
                                    "0": "73",
                                    "1": "Gonzalez, Nuria"
                                },
                                {
                                    "0": "74",
                                    "1": "O’Brien, Dave"
                                },
                                {
                                    "0": "75",
                                    "1": "Wojciechowska, Agnieszka"
                                },
                                {
                                    "0": "76",
                                    "1": "Gulbis, Katrin"
                                },
                                {
                                    "0": "77",
                                    "1": "Osorio, Cristian"
                                },
                                {
                                    "0": "78",
                                    "1": "Young, Robin"
                                },
                                {
                                    "0": "79",
                                    "1": "Wickham, Jim"
                                },
                                {
                                    "0": "80",
                                    "1": "Geschwandtner, Jens"
                                },
                                {
                                    "0": "81",
                                    "1": "Nagel, Jean-Philippe"
                                },
                                {
                                    "0": "82",
                                    "1": "Veninga, Tjeerd"
                                },
                                {
                                    "0": "83",
                                    "1": "Fonteneau, Karl"
                                },
                                {
                                    "0": "84",
                                    "1": "Tuntisangaroon, Sittichai"
                                },
                                {
                                    "0": "85",
                                    "1": "McLin, Nkenge"
                                },
                                {
                                    "0": "86",
                                    "1": "Syamala, Manoj"
                                },
                                {
                                    "0": "87",
                                    "1": "Ludwig, Michael"
                                },
                                {
                                    "0": "88",
                                    "1": "Li, Yan"
                                },
                                {
                                    "0": "89",
                                    "1": "Smith Jr., Ronaldo"
                                },
                                {
                                    "0": "90",
                                    "1": "Larsson, Katarina"
                                },
                                {
                                    "0": "91",
                                    "1": "Conn, Steve"
                                }
                            ]
                        },
                        "text/html": "<table><tr><th>custid</th><th>contactname</th></tr><tr><td>1</td><td>Allen, Michael</td></tr><tr><td>2</td><td>Hassall, Mark</td></tr><tr><td>3</td><td>Peoples, John</td></tr><tr><td>4</td><td>Arndt, Torsten</td></tr><tr><td>5</td><td>Higginbotham, Tom</td></tr><tr><td>6</td><td>Poland, Carole</td></tr><tr><td>7</td><td>Bansal, Dushyant</td></tr><tr><td>8</td><td>Ilyina, Julia</td></tr><tr><td>9</td><td>Raghav, Amritansh</td></tr><tr><td>10</td><td>Bassols, Pilar Colome</td></tr><tr><td>11</td><td>Jaffe, David</td></tr><tr><td>12</td><td>Ray, Mike</td></tr><tr><td>13</td><td>Benito, Almudena</td></tr><tr><td>14</td><td>Jelitto, Jacek</td></tr><tr><td>15</td><td>Richardson, Shawn</td></tr><tr><td>16</td><td>Birkby, Dana</td></tr><tr><td>17</td><td>Jones, TiAnna</td></tr><tr><td>18</td><td>Rizaldy, Arif</td></tr><tr><td>19</td><td>Boseman, Randall</td></tr><tr><td>20</td><td>Kane, John</td></tr><tr><td>21</td><td>Russo, Giuseppe</td></tr><tr><td>22</td><td>Bueno, Janaina Burdan, Neville</td></tr><tr><td>23</td><td>Khanna, Karan</td></tr><tr><td>24</td><td>San Juan, Patricia</td></tr><tr><td>25</td><td>Carlson, Jason</td></tr><tr><td>26</td><td>Koch, Paul</td></tr><tr><td>27</td><td>Schmöllerl, Martin</td></tr><tr><td>28</td><td>Cavaglieri, Giorgio</td></tr><tr><td>29</td><td>Kolesnikova, Katerina</td></tr><tr><td>30</td><td>Shabalin, Rostislav</td></tr><tr><td>31</td><td>Cheng, Yao-Qiang</td></tr><tr><td>32</td><td>Krishnan, Venky</td></tr><tr><td>33</td><td>Sigurdarson, Hallur </td></tr><tr><td>34</td><td>Cohen, Shy</td></tr><tr><td>35</td><td>Langohr, Kris</td></tr><tr><td>36</td><td>Smith, Denise</td></tr><tr><td>37</td><td>Crăciun, Ovidiu V.</td></tr><tr><td>38</td><td>Lee, Frank</td></tr><tr><td>39</td><td>Song, Lolan</td></tr><tr><td>40</td><td>De Oliveira, Jose</td></tr><tr><td>41</td><td>Litton, Tim</td></tr><tr><td>42</td><td>Steiner, Dominik</td></tr><tr><td>43</td><td>Deshpande, Anu</td></tr><tr><td>44</td><td>Louverdis, George</td></tr><tr><td>45</td><td>Sunkammurali,  Krishna</td></tr><tr><td>46</td><td>Dressler, Marlies</td></tr><tr><td>47</td><td>Lupu, Cornel</td></tr><tr><td>48</td><td>Szymczak, Radosław</td></tr><tr><td>49</td><td>Duerr, Bernard</td></tr><tr><td>50</td><td>Mace, Donald</td></tr><tr><td>51</td><td>Taylor, Maurice</td></tr><tr><td>52</td><td>Dupont-Roc, Patrice</td></tr><tr><td>53</td><td>Mallit, Ken</td></tr><tr><td>54</td><td>Tiano, Mike</td></tr><tr><td>55</td><td>Egelund-Muller, Anja</td></tr><tr><td>56</td><td>Marinova, Nadejda</td></tr><tr><td>57</td><td>Tollevsen, Bjørn</td></tr><tr><td>58</td><td>Fakhouri, Fadi</td></tr><tr><td>59</td><td>Meston, Tosh</td></tr><tr><td>60</td><td>Uppal, Sunil</td></tr><tr><td>61</td><td>Florczyk, Krzysztof</td></tr><tr><td>62</td><td>Misiec, Anna</td></tr><tr><td>63</td><td>Veronesi, Giorgio</td></tr><tr><td>64</td><td>Gaffney, Lawrie</td></tr><tr><td>65</td><td>Moore, Michael</td></tr><tr><td>66</td><td>Voss, Florian</td></tr><tr><td>67</td><td>Garden, Euan</td></tr><tr><td>68</td><td>Myrcha, Jacek</td></tr><tr><td>69</td><td>Watters, Jason M.</td></tr><tr><td>70</td><td>Ginters, Kaspars</td></tr><tr><td>71</td><td>Navarro, Tomás</td></tr><tr><td>72</td><td>Welcker, Brian</td></tr><tr><td>73</td><td>Gonzalez, Nuria</td></tr><tr><td>74</td><td>O’Brien, Dave</td></tr><tr><td>75</td><td>Wojciechowska, Agnieszka</td></tr><tr><td>76</td><td>Gulbis, Katrin</td></tr><tr><td>77</td><td>Osorio, Cristian</td></tr><tr><td>78</td><td>Young, Robin</td></tr><tr><td>79</td><td>Wickham, Jim</td></tr><tr><td>80</td><td>Geschwandtner, Jens</td></tr><tr><td>81</td><td>Nagel, Jean-Philippe</td></tr><tr><td>82</td><td>Veninga, Tjeerd</td></tr><tr><td>83</td><td>Fonteneau, Karl</td></tr><tr><td>84</td><td>Tuntisangaroon, Sittichai</td></tr><tr><td>85</td><td>McLin, Nkenge</td></tr><tr><td>86</td><td>Syamala, Manoj</td></tr><tr><td>87</td><td>Ludwig, Michael</td></tr><tr><td>88</td><td>Li, Yan</td></tr><tr><td>89</td><td>Smith Jr., Ronaldo</td></tr><tr><td>90</td><td>Larsson, Katarina</td></tr><tr><td>91</td><td>Conn, Steve</td></tr></table>"
                    }
                }
            ],
            "execution_count": 5
        },
        {
            "cell_type": "markdown",
            "source": "<h2>Ejercicio 2: Operador EXCEPT y INTERSECT",
            "metadata": {}
        },
        {
            "cell_type": "markdown",
            "source": "2.1. Write a SELECT statement to retrieve the custid column from the Sales.Orders table. Filter the results to include only customers who bought more than 20 different products (based on the productid column from the Sales.OrderDetails table)",
            "metadata": {}
        },
        {
            "cell_type": "code",
            "source": "",
            "metadata": {},
            "outputs": [],
            "execution_count": 6
        },
        {
            "cell_type": "markdown",
            "source": "2.2. Write a SELECT statement to retrieve the custid column from the Sales.Orders table. Filter the results to include only customers from the country USA and exclude all customers from the previous (task 1) result. (Hint: use the EXCEPT operator and the previous query.)",
            "metadata": {}
        },
        {
            "cell_type": "code",
            "source": "",
            "metadata": {},
            "outputs": [],
            "execution_count": 7
        },
        {
            "cell_type": "markdown",
            "source": "2.3. Write a SELECT statement to retrieve the custid column from the Sales.Orders table. Filter only customers who have a total sales value greater than $10,000. Calculate the sales value using the qty and unitprice columns from the Sales.OrderDetails table",
            "metadata": {}
        },
        {
            "cell_type": "code",
            "source": "",
            "metadata": {},
            "outputs": [],
            "execution_count": 8
        },
        {
            "cell_type": "markdown",
            "source": "<h2>Ejercicio 3: Utilizando el Operador APPLY",
            "metadata": {}
        },
        {
            "cell_type": "markdown",
            "source": "3.1. Write a SELECT statement to retrieve the productid and productname columns from the Production.Products table. In addition, for each product, retrieve the last two rows from the Sales.OrderDetails table based on orderid number.",
            "metadata": {}
        },
        {
            "cell_type": "code",
            "source": "",
            "metadata": {},
            "outputs": [],
            "execution_count": 9
        },
        {
            "cell_type": "markdown",
            "source": "3.2. Use the CROSS APPLY operator and a correlated subquery. Order the result by the column productid",
            "metadata": {}
        },
        {
            "cell_type": "code",
            "source": "",
            "metadata": {},
            "outputs": [],
            "execution_count": 14
        },
        {
            "cell_type": "markdown",
            "source": "3.3. Ejecutar la sentencia siguiente para crear la función fnGetTop3ProductsForCustomer.",
            "metadata": {}
        },
        {
            "cell_type": "code",
            "source": [
                "DROP FUNCTION IF EXISTS dbo.fnGetTop3ProductsForCustomer; \r\n",
                "GO \r\n",
                "CREATE FUNCTION dbo.fnGetTop3ProductsForCustomer (@custid AS INT) \r\n",
                "RETURNS TABLE AS \r\n",
                "RETURN \r\n",
                "SELECT TOP(3) d.productid, p.productname, SUM(d.qty * d.unitprice) AS totalsalesamount \r\n",
                "FROM Sales.Orders AS o \r\n",
                "INNER JOIN Sales.OrderDetails AS d ON d.orderid = o.orderid \r\n",
                "INNER JOIN Production.Products AS p ON p.productid = d.productid \r\n",
                "WHERE custid = @custid \r\n",
                "GROUP BY d.productid, p.productname \r\n",
                "ORDER BY totalsalesamount DESC;"
            ],
            "metadata": {},
            "outputs": [],
            "execution_count": 1
        },
        {
            "cell_type": "markdown",
            "source": "3.4. Write a SELECT statement to retrieve the custid and contactname columns from the Sales.Customers table. Use the CROSS APPLY operator with the dbo.fnGetTop3ProductsForCustomer function to retrieve productid, productname, and totalsalesamount columns for each customer",
            "metadata": {}
        },
        {
            "cell_type": "code",
            "source": "",
            "metadata": {},
            "outputs": [],
            "execution_count": 19
        },
        {
            "cell_type": "code",
            "source": "",
            "metadata": {},
            "outputs": [],
            "execution_count": 0
        }
    ]
}